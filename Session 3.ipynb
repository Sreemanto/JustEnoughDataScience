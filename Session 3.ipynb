{
 "cells": [
  {
   "cell_type": "code",
   "execution_count": 1,
   "metadata": {},
   "outputs": [],
   "source": [
    "my_list = [2,3,4,5,6,7,4]"
   ]
  },
  {
   "cell_type": "code",
   "execution_count": 2,
   "metadata": {},
   "outputs": [
    {
     "data": {
      "text/plain": [
       "list"
      ]
     },
     "execution_count": 2,
     "metadata": {},
     "output_type": "execute_result"
    }
   ],
   "source": [
    "type(my_list)"
   ]
  },
  {
   "cell_type": "code",
   "execution_count": 3,
   "metadata": {},
   "outputs": [],
   "source": [
    "class SampleClass:\n",
    "    pass"
   ]
  },
  {
   "cell_type": "code",
   "execution_count": 4,
   "metadata": {},
   "outputs": [],
   "source": [
    "#now let's create an instance of the sample \n",
    "s1 = SampleClass()"
   ]
  },
  {
   "cell_type": "code",
   "execution_count": 5,
   "metadata": {},
   "outputs": [],
   "source": [
    "#now we will initialize attributes inside a class\n",
    "#for this we need to write the init method\n",
    "\n",
    "\n",
    "# self is the keyword which connects an instance to the class\n",
    "\n",
    "class MobilePhone():\n",
    "    \n",
    "    def __init__(self,Price,Model):\n",
    "        self.Model = Model\n",
    "        self.Price = Price"
   ]
  },
  {
   "cell_type": "code",
   "execution_count": 6,
   "metadata": {},
   "outputs": [
    {
     "ename": "TypeError",
     "evalue": "__init__() missing 2 required positional arguments: 'Price' and 'Model'",
     "output_type": "error",
     "traceback": [
      "\u001b[1;31m---------------------------------------------------------------------------\u001b[0m",
      "\u001b[1;31mTypeError\u001b[0m                                 Traceback (most recent call last)",
      "\u001b[1;32m<ipython-input-6-4617edb44a01>\u001b[0m in \u001b[0;36m<module>\u001b[1;34m\u001b[0m\n\u001b[1;32m----> 1\u001b[1;33m \u001b[0mm1\u001b[0m \u001b[1;33m=\u001b[0m \u001b[0mMobilePhone\u001b[0m\u001b[1;33m(\u001b[0m\u001b[1;33m)\u001b[0m\u001b[1;33m\u001b[0m\u001b[1;33m\u001b[0m\u001b[0m\n\u001b[0m",
      "\u001b[1;31mTypeError\u001b[0m: __init__() missing 2 required positional arguments: 'Price' and 'Model'"
     ]
    }
   ],
   "source": [
    "m1 = MobilePhone()"
   ]
  },
  {
   "cell_type": "code",
   "execution_count": null,
   "metadata": {},
   "outputs": [],
   "source": [
    "#why the error?\n",
    "#read the error - the method is expecting two params"
   ]
  },
  {
   "cell_type": "code",
   "execution_count": 7,
   "metadata": {},
   "outputs": [],
   "source": [
    "m1 = MobilePhone(10000,'M19')"
   ]
  },
  {
   "cell_type": "code",
   "execution_count": 8,
   "metadata": {},
   "outputs": [
    {
     "data": {
      "text/plain": [
       "10000"
      ]
     },
     "execution_count": 8,
     "metadata": {},
     "output_type": "execute_result"
    }
   ],
   "source": [
    "m1.Price"
   ]
  },
  {
   "cell_type": "code",
   "execution_count": 9,
   "metadata": {},
   "outputs": [
    {
     "data": {
      "text/plain": [
       "'M19'"
      ]
     },
     "execution_count": 9,
     "metadata": {},
     "output_type": "execute_result"
    }
   ],
   "source": [
    "m1.Model"
   ]
  },
  {
   "cell_type": "code",
   "execution_count": 10,
   "metadata": {},
   "outputs": [],
   "source": [
    "#when i saw this for the frst time it confused me as Price appears three times\n",
    "\n",
    "class MobilePhone():\n",
    "    \n",
    "    def __init__(notself,Price,Model):\n",
    "        notself.Model = Model\n",
    "        notself.Price = Price"
   ]
  },
  {
   "cell_type": "code",
   "execution_count": 11,
   "metadata": {},
   "outputs": [],
   "source": [
    "m2 = MobilePhone(15000,'M20')"
   ]
  },
  {
   "cell_type": "code",
   "execution_count": 12,
   "metadata": {},
   "outputs": [
    {
     "data": {
      "text/plain": [
       "('M20', 15000)"
      ]
     },
     "execution_count": 12,
     "metadata": {},
     "output_type": "execute_result"
    }
   ],
   "source": [
    "m2.Model,m2.Price"
   ]
  },
  {
   "cell_type": "markdown",
   "metadata": {},
   "source": [
    "#### self.attribute_name = attribute_name ----> follow the convention, more readable for co developers"
   ]
  },
  {
   "cell_type": "raw",
   "metadata": {},
   "source": [
    "Takeaways 1 - How to declare a class\n",
    "\n",
    "Takeaways 2 - always declare the init() method\n",
    "\n",
    "Takeaways 3 - Follow the convention by writing self.attribute_name"
   ]
  },
  {
   "cell_type": "code",
   "execution_count": 13,
   "metadata": {},
   "outputs": [],
   "source": [
    "#methods\n",
    "class Bank():\n",
    "    \n",
    "    # Class attribute\n",
    "    # common to all instances that we are going to create\n",
    "    \n",
    "    Bank_Name = 'SBI'\n",
    "    \n",
    "    def __init__(self,branch,employees):\n",
    "        \n",
    "        self.branch = branch\n",
    "        self.employees = employees\n",
    "        \n",
    "    def acc_oppening(self):\n",
    "        print('Bank has digitalized the acc. opening process')"
   ]
  },
  {
   "cell_type": "code",
   "execution_count": 14,
   "metadata": {},
   "outputs": [],
   "source": [
    "b1 = Bank('Andheri',10)\n",
    "b2 = Bank('Malad',12)"
   ]
  },
  {
   "cell_type": "code",
   "execution_count": 15,
   "metadata": {},
   "outputs": [
    {
     "data": {
      "text/plain": [
       "'SBI'"
      ]
     },
     "execution_count": 15,
     "metadata": {},
     "output_type": "execute_result"
    }
   ],
   "source": [
    "#check by presing tab\n",
    "#b1.\n",
    "b1.Bank_Name"
   ]
  },
  {
   "cell_type": "code",
   "execution_count": 16,
   "metadata": {},
   "outputs": [
    {
     "data": {
      "text/plain": [
       "'SBI'"
      ]
     },
     "execution_count": 16,
     "metadata": {},
     "output_type": "execute_result"
    }
   ],
   "source": [
    "b2.Bank_Name"
   ]
  },
  {
   "cell_type": "code",
   "execution_count": 17,
   "metadata": {},
   "outputs": [
    {
     "data": {
      "text/plain": [
       "('Andheri', 'Malad')"
      ]
     },
     "execution_count": 17,
     "metadata": {},
     "output_type": "execute_result"
    }
   ],
   "source": [
    "b1.branch,b2.branch"
   ]
  },
  {
   "cell_type": "code",
   "execution_count": 18,
   "metadata": {},
   "outputs": [
    {
     "data": {
      "text/plain": [
       "<bound method Bank.acc_oppening of <__main__.Bank object at 0x0000020480B2A580>>"
      ]
     },
     "execution_count": 18,
     "metadata": {},
     "output_type": "execute_result"
    }
   ],
   "source": [
    "b1.acc_oppening"
   ]
  },
  {
   "cell_type": "code",
   "execution_count": 19,
   "metadata": {},
   "outputs": [
    {
     "name": "stdout",
     "output_type": "stream",
     "text": [
      "Bank has digitalized the acc. opening process\n"
     ]
    }
   ],
   "source": [
    "b1.acc_oppening()"
   ]
  },
  {
   "cell_type": "code",
   "execution_count": 20,
   "metadata": {},
   "outputs": [],
   "source": [
    "#methods\n",
    "\n",
    "class Bank():\n",
    "    \n",
    "    # Class attribute\n",
    "    # common to all instances that we are going to create\n",
    "    \n",
    "    Bank_Name = 'SBI'\n",
    "    \n",
    "    def __init__(self,branch,employees,acc):\n",
    "        \n",
    "        self.branch = branch\n",
    "        self.employees = employees\n",
    "        self.acc = acc\n",
    "        \n",
    "    def acc_oppening(self):\n",
    "        print('Bank has digitalized the acc. opening process and opened {} accounts'.format(acc))"
   ]
  },
  {
   "cell_type": "code",
   "execution_count": 21,
   "metadata": {},
   "outputs": [],
   "source": [
    "b2 = Bank('Dadar',9,120)"
   ]
  },
  {
   "cell_type": "code",
   "execution_count": 22,
   "metadata": {},
   "outputs": [
    {
     "ename": "NameError",
     "evalue": "name 'acc' is not defined",
     "output_type": "error",
     "traceback": [
      "\u001b[1;31m---------------------------------------------------------------------------\u001b[0m",
      "\u001b[1;31mNameError\u001b[0m                                 Traceback (most recent call last)",
      "\u001b[1;32m<ipython-input-22-6a9b6fb9b25c>\u001b[0m in \u001b[0;36m<module>\u001b[1;34m\u001b[0m\n\u001b[1;32m----> 1\u001b[1;33m \u001b[0mb2\u001b[0m\u001b[1;33m.\u001b[0m\u001b[0macc_oppening\u001b[0m\u001b[1;33m(\u001b[0m\u001b[1;33m)\u001b[0m\u001b[1;33m\u001b[0m\u001b[1;33m\u001b[0m\u001b[0m\n\u001b[0m",
      "\u001b[1;32m<ipython-input-20-9ec8b30f9823>\u001b[0m in \u001b[0;36macc_oppening\u001b[1;34m(self)\u001b[0m\n\u001b[0;32m     15\u001b[0m \u001b[1;33m\u001b[0m\u001b[0m\n\u001b[0;32m     16\u001b[0m     \u001b[1;32mdef\u001b[0m \u001b[0macc_oppening\u001b[0m\u001b[1;33m(\u001b[0m\u001b[0mself\u001b[0m\u001b[1;33m)\u001b[0m\u001b[1;33m:\u001b[0m\u001b[1;33m\u001b[0m\u001b[1;33m\u001b[0m\u001b[0m\n\u001b[1;32m---> 17\u001b[1;33m         \u001b[0mprint\u001b[0m\u001b[1;33m(\u001b[0m\u001b[1;34m'Bank has digitalized the acc. opening process and opened {} accounts'\u001b[0m\u001b[1;33m.\u001b[0m\u001b[0mformat\u001b[0m\u001b[1;33m(\u001b[0m\u001b[0macc\u001b[0m\u001b[1;33m)\u001b[0m\u001b[1;33m)\u001b[0m\u001b[1;33m\u001b[0m\u001b[1;33m\u001b[0m\u001b[0m\n\u001b[0m",
      "\u001b[1;31mNameError\u001b[0m: name 'acc' is not defined"
     ]
    }
   ],
   "source": [
    "b2.acc_oppening()"
   ]
  },
  {
   "cell_type": "code",
   "execution_count": 23,
   "metadata": {},
   "outputs": [
    {
     "name": "stdout",
     "output_type": "stream",
     "text": [
      "Bank has digitalized the acc. opening process and opened 120 accounts\n"
     ]
    }
   ],
   "source": [
    "#use self.acc instead of only acc\n",
    "\n",
    "class Bank():\n",
    "    \n",
    "    # Class attribute\n",
    "    # common to all instances that we are going to create\n",
    "    \n",
    "    Bank_Name = 'SBI'\n",
    "    \n",
    "    def __init__(self,branch,employees,acc):\n",
    "        \n",
    "        self.branch = branch\n",
    "        self.employees = employees\n",
    "        self.acc = acc\n",
    "        \n",
    "    def acc_oppening(self):\n",
    "        print('Bank has digitalized the acc. opening process and opened {} accounts'.format(self.acc))\n",
    "        \n",
    "b2 = Bank('Dadar',9,120)\n",
    "b2.acc_oppening()"
   ]
  },
  {
   "cell_type": "code",
   "execution_count": 24,
   "metadata": {},
   "outputs": [],
   "source": [
    "#method with a parameter. let us define a the no of bank accounts\n",
    "class Bank():\n",
    "    \n",
    "    # Class attribute\n",
    "    # common to all instances that we are going to create\n",
    "    \n",
    "    Bank_Name = 'SBI'\n",
    "    \n",
    "    def __init__(self,branch,employees):\n",
    "        \n",
    "        self.branch = branch\n",
    "        self.employees = employees\n",
    "        \n",
    "        \n",
    "    def acc_oppening(self,accounts):\n",
    "        print('Bank has digitalized the acc. opening process and opened {} accounts'.format(self.accounts))\n",
    "        #print('Bank has digitalized the acc. opening process and opened {} accounts'.format(accounts))"
   ]
  },
  {
   "cell_type": "code",
   "execution_count": 25,
   "metadata": {},
   "outputs": [
    {
     "ename": "AttributeError",
     "evalue": "'Bank' object has no attribute 'accounts'",
     "output_type": "error",
     "traceback": [
      "\u001b[1;31m---------------------------------------------------------------------------\u001b[0m",
      "\u001b[1;31mAttributeError\u001b[0m                            Traceback (most recent call last)",
      "\u001b[1;32m<ipython-input-25-764b8c54ba4d>\u001b[0m in \u001b[0;36m<module>\u001b[1;34m\u001b[0m\n\u001b[0;32m      1\u001b[0m \u001b[0mb2\u001b[0m \u001b[1;33m=\u001b[0m \u001b[0mBank\u001b[0m\u001b[1;33m(\u001b[0m\u001b[1;34m'Dadar'\u001b[0m\u001b[1;33m,\u001b[0m\u001b[1;36m9\u001b[0m\u001b[1;33m)\u001b[0m\u001b[1;33m\u001b[0m\u001b[1;33m\u001b[0m\u001b[0m\n\u001b[1;32m----> 2\u001b[1;33m \u001b[0mb2\u001b[0m\u001b[1;33m.\u001b[0m\u001b[0macc_oppening\u001b[0m\u001b[1;33m(\u001b[0m\u001b[1;36m91\u001b[0m\u001b[1;33m)\u001b[0m\u001b[1;33m\u001b[0m\u001b[1;33m\u001b[0m\u001b[0m\n\u001b[0m",
      "\u001b[1;32m<ipython-input-24-de08ea8f6efd>\u001b[0m in \u001b[0;36macc_oppening\u001b[1;34m(self, accounts)\u001b[0m\n\u001b[0;32m     14\u001b[0m \u001b[1;33m\u001b[0m\u001b[0m\n\u001b[0;32m     15\u001b[0m     \u001b[1;32mdef\u001b[0m \u001b[0macc_oppening\u001b[0m\u001b[1;33m(\u001b[0m\u001b[0mself\u001b[0m\u001b[1;33m,\u001b[0m\u001b[0maccounts\u001b[0m\u001b[1;33m)\u001b[0m\u001b[1;33m:\u001b[0m\u001b[1;33m\u001b[0m\u001b[1;33m\u001b[0m\u001b[0m\n\u001b[1;32m---> 16\u001b[1;33m         \u001b[0mprint\u001b[0m\u001b[1;33m(\u001b[0m\u001b[1;34m'Bank has digitalized the acc. opening process and opened {} accounts'\u001b[0m\u001b[1;33m.\u001b[0m\u001b[0mformat\u001b[0m\u001b[1;33m(\u001b[0m\u001b[0mself\u001b[0m\u001b[1;33m.\u001b[0m\u001b[0maccounts\u001b[0m\u001b[1;33m)\u001b[0m\u001b[1;33m)\u001b[0m\u001b[1;33m\u001b[0m\u001b[1;33m\u001b[0m\u001b[0m\n\u001b[0m\u001b[0;32m     17\u001b[0m         \u001b[1;31m#print('Bank has digitalized the acc. opening process and opened {} accounts'.format(accounts))\u001b[0m\u001b[1;33m\u001b[0m\u001b[1;33m\u001b[0m\u001b[1;33m\u001b[0m\u001b[0m\n",
      "\u001b[1;31mAttributeError\u001b[0m: 'Bank' object has no attribute 'accounts'"
     ]
    }
   ],
   "source": [
    "b2 = Bank('Dadar',9)\n",
    "b2.acc_oppening(91)"
   ]
  },
  {
   "cell_type": "code",
   "execution_count": 26,
   "metadata": {},
   "outputs": [],
   "source": [
    "#Lets create another class\n",
    "\n",
    "#attribute may not always be passed in from user\n",
    "#sometime we can create an attribute within class it self\n",
    "\n",
    "class Circle():\n",
    "    \n",
    "    pi = 3.14\n",
    "    \n",
    "    def __init__(self,radius=1):\n",
    "        self.radius = radius\n",
    "        \n",
    "    def circumference(self):\n",
    "        print('Circumference of the circle is {} '.format(self.pi*self.radius*2))"
   ]
  },
  {
   "cell_type": "code",
   "execution_count": 27,
   "metadata": {},
   "outputs": [],
   "source": [
    "m1 = Circle()"
   ]
  },
  {
   "cell_type": "code",
   "execution_count": 28,
   "metadata": {},
   "outputs": [
    {
     "name": "stdout",
     "output_type": "stream",
     "text": [
      "Circumference of the circle is 6.28 \n"
     ]
    }
   ],
   "source": [
    "m1.circumference()"
   ]
  },
  {
   "cell_type": "code",
   "execution_count": 29,
   "metadata": {},
   "outputs": [],
   "source": [
    "m2 = Circle(10)"
   ]
  },
  {
   "cell_type": "code",
   "execution_count": 30,
   "metadata": {},
   "outputs": [
    {
     "name": "stdout",
     "output_type": "stream",
     "text": [
      "Circumference of the circle is 62.800000000000004 \n"
     ]
    }
   ],
   "source": [
    "m2.circumference()"
   ]
  },
  {
   "cell_type": "markdown",
   "metadata": {},
   "source": [
    "#### OOP Concepts"
   ]
  },
  {
   "cell_type": "code",
   "execution_count": 31,
   "metadata": {},
   "outputs": [],
   "source": [
    "#Inheritance\n",
    "#It is in a way a process of building new classes with already defined classes\n",
    "\n",
    "#Reduces complexeity and redundancy\n",
    "#Less lines of code\n",
    "\n",
    "class gadget():\n",
    "    \n",
    "    def __init__(self):\n",
    "        print('Gadget created')\n",
    "        \n",
    "    def video_device(self):\n",
    "        print('This is a method used for viewing videos')\n",
    "\n",
    "    def play_game(self):\n",
    "        print('This is a device used for playing video games')"
   ]
  },
  {
   "cell_type": "code",
   "execution_count": 32,
   "metadata": {},
   "outputs": [],
   "source": [
    "class smartphone(gadget):   # the derived class will inherit the methods and attributes from the base class\n",
    "    \n",
    "    def __init__(self):\n",
    "        gadget.__init__(self)            #This line calls the __init__ object from gadget class and creates that object\n",
    "        print(\"smarthphone is created\")"
   ]
  },
  {
   "cell_type": "code",
   "execution_count": 33,
   "metadata": {},
   "outputs": [
    {
     "name": "stdout",
     "output_type": "stream",
     "text": [
      "Gadget created\n",
      "smarthphone is created\n"
     ]
    }
   ],
   "source": [
    "s1 = smartphone()"
   ]
  },
  {
   "cell_type": "code",
   "execution_count": 34,
   "metadata": {},
   "outputs": [
    {
     "name": "stdout",
     "output_type": "stream",
     "text": [
      "This is a device used for playing video games\n"
     ]
    }
   ],
   "source": [
    "#Press tab to check if the methods of base class are available in the derived  class\n",
    "s1.play_game()"
   ]
  },
  {
   "cell_type": "code",
   "execution_count": 35,
   "metadata": {},
   "outputs": [],
   "source": [
    "# can we overwrite the methods of the base class??\n",
    "#let;s find out"
   ]
  },
  {
   "cell_type": "code",
   "execution_count": 36,
   "metadata": {},
   "outputs": [],
   "source": [
    "class laptop(gadget):   \n",
    "    \n",
    "    def __init__(self):\n",
    "        gadget.__init__(self)            \n",
    "        print(\"laptop is created\")\n",
    "    \n",
    "    def video_device(self):\n",
    "        print('This is a method used for viewing and editing videos')"
   ]
  },
  {
   "cell_type": "code",
   "execution_count": 37,
   "metadata": {},
   "outputs": [
    {
     "name": "stdout",
     "output_type": "stream",
     "text": [
      "Gadget created\n",
      "laptop is created\n"
     ]
    }
   ],
   "source": [
    "l1 = laptop()"
   ]
  },
  {
   "cell_type": "code",
   "execution_count": 38,
   "metadata": {},
   "outputs": [
    {
     "name": "stdout",
     "output_type": "stream",
     "text": [
      "This is a method used for viewing and editing videos\n"
     ]
    }
   ],
   "source": [
    "l1.video_device()"
   ]
  },
  {
   "cell_type": "markdown",
   "metadata": {},
   "source": [
    "#### Question - Write a program which has class Calculate and define two methods."
   ]
  },
  {
   "cell_type": "markdown",
   "metadata": {},
   "source": [
    "#### 'distance' for calculatng distance between a pair of two points in a (x,y) plane"
   ]
  },
  {
   "cell_type": "markdown",
   "metadata": {},
   "source": [
    "#### 'slope' for calculating slope between the two points"
   ]
  },
  {
   "cell_type": "code",
   "execution_count": 39,
   "metadata": {},
   "outputs": [],
   "source": [
    "class calculate():\n",
    "    \n",
    "    def __init__(self,x1y1,x2y2):\n",
    "        self.x1y1 = x1y1\n",
    "        self.x2y2 = x2y2\n",
    "        \n",
    "    def distance(self):\n",
    "        x1,y1 = self.x1y1\n",
    "        x2,y2 = self.x2y2\n",
    "        \n",
    "        return ((y2-y1)**2 + (x2-x1)**2)**0.5\n",
    "\n",
    "    def slope(self):\n",
    "        x1,y1 = self.x1y1\n",
    "        x2,y2 = self.x2y2\n",
    "        \n",
    "        return (y2-y1)/(x2-x1)"
   ]
  },
  {
   "cell_type": "code",
   "execution_count": 40,
   "metadata": {},
   "outputs": [],
   "source": [
    "c1 = (-1,12)\n",
    "c2 = (22,10)\n",
    "\n",
    "m = calculate(c1,c2)"
   ]
  },
  {
   "cell_type": "code",
   "execution_count": 41,
   "metadata": {},
   "outputs": [
    {
     "data": {
      "text/plain": [
       "(23.08679276123039, -0.08695652173913043)"
      ]
     },
     "execution_count": 41,
     "metadata": {},
     "output_type": "execute_result"
    }
   ],
   "source": [
    "m.distance(), m.slope()"
   ]
  },
  {
   "cell_type": "code",
   "execution_count": 42,
   "metadata": {},
   "outputs": [],
   "source": [
    "#modules are just .py scripts that we use in another .py scripts\n",
    "#packages are collection of modules that we need in another .py scripts"
   ]
  },
  {
   "cell_type": "code",
   "execution_count": 43,
   "metadata": {},
   "outputs": [],
   "source": [
    "#at first we start with modules but with course of time when we have multiple modules\n",
    "#we tend to create a package and subpackegse\n",
    "#which is nothing but just gives a foder sturcture to all the modules we have in place"
   ]
  },
  {
   "cell_type": "code",
   "execution_count": 44,
   "metadata": {},
   "outputs": [],
   "source": [
    "#we cannot use jupiternotebook for creating modules as the format is different\n",
    "#but we surely can use the modules we created in our jupiter notebook"
   ]
  },
  {
   "cell_type": "code",
   "execution_count": 46,
   "metadata": {},
   "outputs": [],
   "source": [
    "from package import calculate"
   ]
  },
  {
   "cell_type": "code",
   "execution_count": 47,
   "metadata": {},
   "outputs": [],
   "source": [
    "c1 = (-1,12)\n",
    "c2 = (22,10)\n",
    "\n",
    "m = calculate(c1,c2)"
   ]
  },
  {
   "cell_type": "code",
   "execution_count": 48,
   "metadata": {},
   "outputs": [
    {
     "data": {
      "text/plain": [
       "23.08679276123039"
      ]
     },
     "execution_count": 48,
     "metadata": {},
     "output_type": "execute_result"
    }
   ],
   "source": [
    "m.distance()"
   ]
  },
  {
   "cell_type": "code",
   "execution_count": null,
   "metadata": {},
   "outputs": [],
   "source": []
  },
  {
   "cell_type": "code",
   "execution_count": null,
   "metadata": {},
   "outputs": [],
   "source": []
  },
  {
   "cell_type": "code",
   "execution_count": null,
   "metadata": {},
   "outputs": [],
   "source": []
  },
  {
   "cell_type": "code",
   "execution_count": null,
   "metadata": {},
   "outputs": [],
   "source": []
  },
  {
   "cell_type": "code",
   "execution_count": null,
   "metadata": {},
   "outputs": [],
   "source": []
  },
  {
   "cell_type": "code",
   "execution_count": null,
   "metadata": {},
   "outputs": [],
   "source": []
  },
  {
   "cell_type": "code",
   "execution_count": null,
   "metadata": {},
   "outputs": [],
   "source": []
  },
  {
   "cell_type": "code",
   "execution_count": null,
   "metadata": {},
   "outputs": [],
   "source": []
  },
  {
   "cell_type": "code",
   "execution_count": null,
   "metadata": {},
   "outputs": [],
   "source": []
  },
  {
   "cell_type": "code",
   "execution_count": null,
   "metadata": {},
   "outputs": [],
   "source": []
  }
 ],
 "metadata": {
  "kernelspec": {
   "display_name": "Python 3",
   "language": "python",
   "name": "python3"
  },
  "language_info": {
   "codemirror_mode": {
    "name": "ipython",
    "version": 3
   },
   "file_extension": ".py",
   "mimetype": "text/x-python",
   "name": "python",
   "nbconvert_exporter": "python",
   "pygments_lexer": "ipython3",
   "version": "3.8.5"
  }
 },
 "nbformat": 4,
 "nbformat_minor": 4
}
